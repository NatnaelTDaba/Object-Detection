{
  "nbformat": 4,
  "nbformat_minor": 0,
  "metadata": {
    "kernelspec": {
      "display_name": "Python 3",
      "language": "python",
      "name": "python3"
    },
    "language_info": {
      "codemirror_mode": {
        "name": "ipython",
        "version": 3
      },
      "file_extension": ".py",
      "mimetype": "text/x-python",
      "name": "python",
      "nbconvert_exporter": "python",
      "pygments_lexer": "ipython3",
      "version": "3.5.4"
    },
    "colab": {
      "name": "xView_Processing.ipynb",
      "provenance": [],
      "collapsed_sections": [],
      "include_colab_link": true
    }
  },
  "cells": [
    {
      "cell_type": "markdown",
      "metadata": {
        "id": "view-in-github",
        "colab_type": "text"
      },
      "source": [
        "<a href=\"https://colab.research.google.com/github/NatnaelTDaba/Object-Detection/blob/master/xView_Processing.ipynb\" target=\"_parent\"><img src=\"https://colab.research.google.com/assets/colab-badge.svg\" alt=\"Open In Colab\"/></a>"
      ]
    },
    {
      "cell_type": "code",
      "metadata": {
        "id": "OEGNHHlN1pKO",
        "colab": {
          "base_uri": "https://localhost:8080/"
        },
        "outputId": "02c6b461-da04-4e10-c1be-ce010b66c3e1"
      },
      "source": [
        "from google.colab import drive\n",
        "drive.mount('/content/drive')"
      ],
      "execution_count": 12,
      "outputs": [
        {
          "output_type": "stream",
          "text": [
            "Drive already mounted at /content/drive; to attempt to forcibly remount, call drive.mount(\"/content/drive\", force_remount=True).\n"
          ],
          "name": "stdout"
        }
      ]
    },
    {
      "cell_type": "code",
      "metadata": {
        "id": "R_ZRITt62LeG"
      },
      "source": [
        "import os\n",
        "import sys\n",
        "work_dir = '/content/drive/MyDrive/UCF/CAP7919/Object-Detection/'\n",
        "data_dir = work_dir+'data/'\n",
        "util_dir = work_dir+'data_utilities/'\n",
        "os.chdir(work_dir)\n",
        "sys.path.append(work_dir+util_dir)\n",
        "sys.path.append(work_dir+data_dir)"
      ],
      "execution_count": 3,
      "outputs": []
    },
    {
      "cell_type": "code",
      "metadata": {
        "collapsed": true,
        "id": "cNJa0Z4C1jXh"
      },
      "source": [
        "import aug_util as aug\n",
        "import wv_util as wv\n",
        "import matplotlib.pyplot as plt\n",
        "import numpy as np\n",
        "import csv\n",
        "%matplotlib inline\n",
        "from PIL import Image, ImageDraw # to read images\n",
        "import cv2\n",
        "from tqdm import tqdm\n",
        "import pickle"
      ],
      "execution_count": 4,
      "outputs": []
    },
    {
      "cell_type": "code",
      "metadata": {
        "colab": {
          "base_uri": "https://localhost:8080/"
        },
        "id": "VcSLqu9yoLWv",
        "outputId": "008e614a-45ce-47b9-d616-44be871a8ea8"
      },
      "source": [
        "!ls -lhs ."
      ],
      "execution_count": 11,
      "outputs": [
        {
          "output_type": "stream",
          "text": [
            "total 356M\n",
            "4.0K drwx------ 3 root root 4.0K Feb 17 18:59 data\n",
            "4.0K drwx------ 4 root root 4.0K Feb 17 18:55 data_utilities\n",
            " 512 -rw------- 1 root root   19 Feb 17 18:50 README.md\n",
            "157K -rw------- 1 root root 157K Feb 18 20:20 xView_Processing.ipynb\n",
            "355M -rw------- 1 root root 355M Feb 14  2018 xView_train.geojson\n"
          ],
          "name": "stdout"
        }
      ]
    },
    {
      "cell_type": "code",
      "metadata": {
        "colab": {
          "base_uri": "https://localhost:8080/",
          "height": 35
        },
        "id": "yQHLDSf2jV_L",
        "outputId": "fe177972-1e1b-46c2-ebfb-8318c9137ec7"
      },
      "source": [
        "%pwd"
      ],
      "execution_count": 7,
      "outputs": [
        {
          "output_type": "execute_result",
          "data": {
            "application/vnd.google.colaboratory.intrinsic+json": {
              "type": "string"
            },
            "text/plain": [
              "'/content/drive/MyDrive/UCF/CAP7919/Object-Detection'"
            ]
          },
          "metadata": {
            "tags": []
          },
          "execution_count": 7
        }
      ]
    },
    {
      "cell_type": "code",
      "metadata": {
        "id": "02GAW1cPvuoB"
      },
      "source": [
        "!tar -xf ./data/train_labels.tgz"
      ],
      "execution_count": 9,
      "outputs": []
    },
    {
      "cell_type": "code",
      "metadata": {
        "id": "o-hEAucu1jXm"
      },
      "source": [
        "#Load an image\n",
        "chip_name = '../train_images/2523.tif'\n",
        "arr = wv.get_image(chip_name)\n",
        "\n",
        "plt.figure(figsize=(10,10))\n",
        "plt.axis('off')\n",
        "plt.imshow(arr)"
      ],
      "execution_count": null,
      "outputs": []
    },
    {
      "cell_type": "code",
      "metadata": {
        "colab": {
          "base_uri": "https://localhost:8080/"
        },
        "id": "uVS_62Kx1jXo",
        "outputId": "ebd6f4b8-ad11-4d0b-8d43-5bb7229ea14a"
      },
      "source": [
        "#Loading our labels\n",
        "coords, chips, classes = wv.get_labels('../xView_train.geojson')"
      ],
      "execution_count": null,
      "outputs": [
        {
          "output_type": "stream",
          "text": [
            "100%|██████████| 601937/601937 [00:03<00:00, 163074.17it/s]\n"
          ],
          "name": "stderr"
        }
      ]
    },
    {
      "cell_type": "code",
      "metadata": {
        "id": "21gQ7pzbQDkZ"
      },
      "source": [
        "labels = {}\n",
        "with open('xview_class_labels.txt') as f:\n",
        "    for row in csv.reader(f):\n",
        "        labels[int(row[0].split(\":\")[0])] = row[0].split(\":\")[1]\n",
        "\n",
        "valid_labels = list(labels.keys())"
      ],
      "execution_count": null,
      "outputs": []
    },
    {
      "cell_type": "code",
      "metadata": {
        "id": "d606klytlSMz"
      },
      "source": [
        "file_name = \"valid_chip_names.pkl\"\n",
        "open_file = open(file_name, \"rb\")\n",
        "valid_chip_names = pickle.load(open_file)\n",
        "open_file.close()"
      ],
      "execution_count": null,
      "outputs": []
    },
    {
      "cell_type": "code",
      "metadata": {
        "id": "Dn0x6Ta3oVpP"
      },
      "source": [
        "unique, counts = np.unique(classes, return_counts=True)\n",
        "class_counts = {k:0 for k in list(unique.astype('int64'))}"
      ],
      "execution_count": null,
      "outputs": []
    },
    {
      "cell_type": "code",
      "metadata": {
        "colab": {
          "base_uri": "https://localhost:8080/"
        },
        "id": "1k87CjPk4mq7",
        "outputId": "189be2dc-527b-40b4-f147-b84c2ec1ae1f"
      },
      "source": [
        "org_data_dir = '../train_images/'\n",
        "tgt_data_dir = '../new_train_images_2/'\n",
        "chip_names = list(np.unique(chips))\n",
        "k = 0\n",
        "\n",
        "imgs_processed = 0\n",
        "\n",
        "with tqdm(total=len(chip_names), position=0, leave=True) as pbar:\n",
        "\n",
        "  for chip_name in tqdm(chip_names, position=0, leave=True):\n",
        "\n",
        "    if chip_name in valid_chip_names:\n",
        "\n",
        "      chip = np.array(Image.open(org_data_dir+chip_name))\n",
        "\n",
        "      chip_bboxes = coords[chips==chip_name]\n",
        "      bbox_classes = classes[chips==chip_name].astype(np.int64)\n",
        "      imgs_processed += 1\n",
        "      for i in range(len(chip_bboxes)):\n",
        "\n",
        "        cropped_img = chip[int(chip_bboxes[i][1])-10:int(chip_bboxes[i][3])+10, int(chip_bboxes[i][0])-10:int(chip_bboxes[i][2])+10]\n",
        "\n",
        "        if cropped_img.shape[0] > 0 and cropped_img.shape[1] > 0:\n",
        "\n",
        "          im = Image.fromarray(cropped_img)\n",
        "          im.save(tgt_data_dir+str(bbox_classes[i])+'/'+str(k+1)+'.jpg')\n",
        "          k += 1\n",
        "          class_counts[bbox_classes[i]] += 1\n",
        "\n",
        "    pbar.update()\n",
        "\n",
        "print(\"\\nNumber of extracted images:\", k)\n",
        "print(\"Number of chips processed:\", imgs_processed)"
      ],
      "execution_count": null,
      "outputs": [
        {
          "output_type": "stream",
          "text": [
            "100%|██████████| 847/847 [1:34:35<00:00,  6.70s/it]\n",
            "100%|██████████| 847/847 [1:34:35<00:00,  6.70s/it]"
          ],
          "name": "stderr"
        },
        {
          "output_type": "stream",
          "text": [
            "\n",
            "Number of extracted images: 593162\n",
            "Number of chips processed: 846\n"
          ],
          "name": "stdout"
        },
        {
          "output_type": "stream",
          "text": [
            "\n"
          ],
          "name": "stderr"
        }
      ]
    },
    {
      "cell_type": "code",
      "metadata": {
        "id": "kX-bASRrt76o",
        "colab": {
          "base_uri": "https://localhost:8080/"
        },
        "outputId": "b0dd0067-98ea-4763-8361-37e418b4faee"
      },
      "source": [
        "new_pixel_areas = []\n",
        "low_thresh = 6\n",
        "high_thresh = 10\n",
        "num_removed_images = 0\n",
        "with tqdm(total=60, position=0, leave=True) as pbar:\n",
        "  for subdir, dirs, files in tqdm(os.walk('../new_train_images_2'), position=0, leave=True):\n",
        "      for filename in files:\n",
        "        filepath = subdir + os.sep + filename\n",
        "        if filepath.endswith(\".jpg\"):\n",
        "          img = np.array(Image.open(filepath))\n",
        "          area = img.shape[0]*img.shape[1]\n",
        "          if (np.log(area) > high_thresh) or (np.log(area) < low_thresh):\n",
        "            os.remove(filepath)\n",
        "            num_removed_images+=1\n",
        "          else:\n",
        "            new_pixel_areas.append(area)\n",
        "\n",
        "      pbar.update()"
      ],
      "execution_count": null,
      "outputs": [
        {
          "output_type": "stream",
          "text": [
            "63it [1:27:35, 83.43s/it]\n",
            "63it [1:27:35, 83.43s/it]\n"
          ],
          "name": "stderr"
        }
      ]
    },
    {
      "cell_type": "code",
      "metadata": {
        "id": "uMjg_zuStS-Y"
      },
      "source": [
        "num_removed_images\n",
        "num_removed_images_file = open('num_of_removed_images.pkl','wb')\n",
        "pickle.dump(num_removed_images, num_removed_images_file)\n",
        "num_removed_images_file.close()"
      ],
      "execution_count": null,
      "outputs": []
    },
    {
      "cell_type": "code",
      "metadata": {
        "colab": {
          "base_uri": "https://localhost:8080/"
        },
        "id": "BhfZyGupuOHA",
        "outputId": "6806ae7c-c49f-490e-bcf5-dd88c1187d39"
      },
      "source": [
        "593162-num_removed_images"
      ],
      "execution_count": null,
      "outputs": [
        {
          "output_type": "execute_result",
          "data": {
            "text/plain": [
              "581509"
            ]
          },
          "metadata": {
            "tags": []
          },
          "execution_count": 38
        }
      ]
    },
    {
      "cell_type": "code",
      "metadata": {
        "colab": {
          "base_uri": "https://localhost:8080/"
        },
        "id": "mZ-WfyGovV97",
        "outputId": "8e36e746-16d1-42e5-befb-6c41e1572a92"
      },
      "source": [
        "num_removed_images"
      ],
      "execution_count": null,
      "outputs": [
        {
          "output_type": "execute_result",
          "data": {
            "text/plain": [
              "11653"
            ]
          },
          "metadata": {
            "tags": []
          },
          "execution_count": 39
        }
      ]
    },
    {
      "cell_type": "code",
      "metadata": {
        "colab": {
          "base_uri": "https://localhost:8080/"
        },
        "id": "BrbvS12hwpDn",
        "outputId": "9ccd6a51-7e50-45a0-d74c-4c3b7188ea13"
      },
      "source": [
        "!ls"
      ],
      "execution_count": null,
      "outputs": [
        {
          "output_type": "stream",
          "text": [
            " aug_util.py\t\t     process_wv.py   valid_chip_names.pkl\n",
            " LICENSE\t\t     __pycache__     wv_util.py\n",
            " new_pixel_areas2.pkl\t     README.md\t     xview_class_labels.txt\n",
            " num_of_removed_images.pkl   tfr_util.py    'xView Processing.ipynb'\n"
          ],
          "name": "stdout"
        }
      ]
    },
    {
      "cell_type": "code",
      "metadata": {
        "id": "KsifCIhQT0ak"
      },
      "source": [
        "pixel_area_file = open('new_pixel_areas2.pkl','wb')\n",
        "pickle.dump(new_pixel_areas, pixel_area_file)\n",
        "pixel_area_file.close() "
      ],
      "execution_count": null,
      "outputs": []
    },
    {
      "cell_type": "code",
      "metadata": {
        "id": "ogjVZWC_Vnqb"
      },
      "source": [
        "loaded_pixel_area_file = open('new_pixel_areas2.pkl','rb')\n",
        "a = pickle.load(loaded_pixel_area_file)\n",
        "a"
      ],
      "execution_count": null,
      "outputs": []
    },
    {
      "cell_type": "code",
      "metadata": {
        "id": "2xAAQ5w-VZwz"
      },
      "source": [
        "min_a = min(a)\n",
        "max_a = max(a)\n",
        "b = [1.0*(v-min_a)/(max_a-min_a) for v in a]"
      ],
      "execution_count": null,
      "outputs": []
    },
    {
      "cell_type": "code",
      "metadata": {
        "colab": {
          "base_uri": "https://localhost:8080/",
          "height": 458
        },
        "id": "0llSWOcvdM2s",
        "outputId": "69423493-12a4-4f05-d09f-839cb263c309"
      },
      "source": [
        "plt.figure(figsize=[11,7])\n",
        "plt.grid()\n",
        "h = plt.hist(np.log(a), bins=30)\n",
        "plt.xlabel(\"pixel area (log space)\")\n",
        "plt.ylabel(\"count\")\n",
        "plt.title(\"Histogram of pixel areas of 581509 images\")\n",
        "plt.show()"
      ],
      "execution_count": null,
      "outputs": [
        {
          "output_type": "display_data",
          "data": {
            "image/png": "[encoded data removed]",
            "text/plain": [
              "<Figure size 792x504 with 1 Axes>"
            ]
          },
          "metadata": {
            "tags": [],
            "needs_background": "light"
          }
        }
      ]
    },
    {
      "cell_type": "code",
      "metadata": {
        "colab": {
          "base_uri": "https://localhost:8080/"
        },
        "id": "R-O1Z8nhh0gy",
        "outputId": "3da1f303-5f7d-41d1-844c-2f3c47ad34e1"
      },
      "source": [
        "np.log(max(a))"
      ],
      "execution_count": null,
      "outputs": [
        {
          "output_type": "execute_result",
          "data": {
            "text/plain": [
              "9.999797232673536"
            ]
          },
          "metadata": {
            "tags": []
          },
          "execution_count": 29
        }
      ]
    },
    {
      "cell_type": "code",
      "metadata": {
        "colab": {
          "base_uri": "https://localhost:8080/"
        },
        "id": "7_PSFr8sqEuh",
        "outputId": "ab2fe13b-6f7d-402c-ecc0-2b68d297f716"
      },
      "source": [
        "np.log(min(a))"
      ],
      "execution_count": null,
      "outputs": [
        {
          "output_type": "execute_result",
          "data": {
            "text/plain": [
              "6.003887067106539"
            ]
          },
          "metadata": {
            "tags": []
          },
          "execution_count": 30
        }
      ]
    },
    {
      "cell_type": "code",
      "metadata": {
        "colab": {
          "base_uri": "https://localhost:8080/"
        },
        "id": "sW0oK6W-_5n1",
        "outputId": "69bccc5f-9b04-48c2-95ea-5e1921e13752"
      },
      "source": [
        "total_num_of_images = 0\n",
        "for subdir, dirs, files in os.walk('../new_train_images_2'):\n",
        "  print(subdir,\"len:\",len(files))\n",
        "  total_num_of_images+=len(files)\n",
        "print(total_num_of_images)"
      ],
      "execution_count": null,
      "outputs": [
        {
          "output_type": "stream",
          "text": [
            "../new_train_images_2 len: 0\n",
            "../new_train_images_2/11 len: 72\n",
            "../new_train_images_2/12 len: 359\n",
            "../new_train_images_2/13 len: 507\n",
            "../new_train_images_2/15 len: 69\n",
            "../new_train_images_2/17 len: 2932\n",
            "../new_train_images_2/18 len: 210497\n",
            "../new_train_images_2/19 len: 6892\n",
            "../new_train_images_2/20 len: 1096\n",
            "../new_train_images_2/21 len: 3598\n",
            "../new_train_images_2/23 len: 12088\n",
            "../new_train_images_2/24 len: 5852\n",
            "../new_train_images_2/25 len: 3591\n",
            "../new_train_images_2/26 len: 856\n",
            "../new_train_images_2/27 len: 4057\n",
            "../new_train_images_2/28 len: 887\n",
            "../new_train_images_2/29 len: 147\n",
            "../new_train_images_2/32 len: 174\n",
            "../new_train_images_2/33 len: 17\n",
            "../new_train_images_2/34 len: 1596\n",
            "../new_train_images_2/35 len: 1820\n",
            "../new_train_images_2/36 len: 124\n",
            "../new_train_images_2/37 len: 120\n",
            "../new_train_images_2/38 len: 121\n",
            "../new_train_images_2/40 len: 569\n",
            "../new_train_images_2/41 len: 1455\n",
            "../new_train_images_2/42 len: 692\n",
            "../new_train_images_2/44 len: 218\n",
            "../new_train_images_2/45 len: 150\n",
            "../new_train_images_2/47 len: 729\n",
            "../new_train_images_2/49 len: 169\n",
            "../new_train_images_2/50 len: 437\n",
            "../new_train_images_2/51 len: 158\n",
            "../new_train_images_2/52 len: 20\n",
            "../new_train_images_2/53 len: 201\n",
            "../new_train_images_2/54 len: 91\n",
            "../new_train_images_2/55 len: 127\n",
            "../new_train_images_2/56 len: 69\n",
            "../new_train_images_2/57 len: 43\n",
            "../new_train_images_2/59 len: 298\n",
            "../new_train_images_2/60 len: 1351\n",
            "../new_train_images_2/61 len: 327\n",
            "../new_train_images_2/62 len: 78\n",
            "../new_train_images_2/63 len: 627\n",
            "../new_train_images_2/64 len: 836\n",
            "../new_train_images_2/65 len: 287\n",
            "../new_train_images_2/66 len: 83\n",
            "../new_train_images_2/71 len: 703\n",
            "../new_train_images_2/72 len: 1145\n",
            "../new_train_images_2/73 len: 302127\n",
            "../new_train_images_2/74 len: 113\n",
            "../new_train_images_2/75 len: 25\n",
            "../new_train_images_2/76 len: 1026\n",
            "../new_train_images_2/77 len: 577\n",
            "../new_train_images_2/79 len: 558\n",
            "../new_train_images_2/82 len: 14\n",
            "../new_train_images_2/83 len: 3185\n",
            "../new_train_images_2/84 len: 116\n",
            "../new_train_images_2/86 len: 1609\n",
            "../new_train_images_2/89 len: 1809\n",
            "../new_train_images_2/91 len: 1574\n",
            "../new_train_images_2/93 len: 358\n",
            "../new_train_images_2/94 len: 83\n",
            "581509\n"
          ],
          "name": "stdout"
        }
      ]
    },
    {
      "cell_type": "code",
      "metadata": {
        "colab": {
          "base_uri": "https://localhost:8080/"
        },
        "id": "N3Z2OG2OvCDy",
        "outputId": "63d91e2a-e437-4d5e-fefa-541031d84df3"
      },
      "source": [
        "len(list(unique.astype('int64')))"
      ],
      "execution_count": null,
      "outputs": [
        {
          "output_type": "execute_result",
          "data": {
            "text/plain": [
              "62"
            ]
          },
          "metadata": {
            "tags": []
          },
          "execution_count": 26
        }
      ]
    },
    {
      "cell_type": "code",
      "metadata": {
        "id": "NlkuBRX2L8Dv"
      },
      "source": [
        "!mkdir ../backup_new_train_images_2/"
      ],
      "execution_count": null,
      "outputs": []
    },
    {
      "cell_type": "code",
      "metadata": {
        "id": "W4MIF4q3MDK0"
      },
      "source": [
        "!cp -r ../new_train_images_2/ ../backup_new_train_images_2/"
      ],
      "execution_count": null,
      "outputs": []
    },
    {
      "cell_type": "code",
      "metadata": {
        "id": "5HYUbIKQR24z",
        "colab": {
          "base_uri": "https://localhost:8080/"
        },
        "outputId": "f7453e00-3ff4-487d-c5a0-4d0f0facdee4"
      },
      "source": [
        "!rm -r ../backup_new_train_images_2/"
      ],
      "execution_count": null,
      "outputs": [
        {
          "output_type": "stream",
          "text": [
            "^C\n"
          ],
          "name": "stdout"
        }
      ]
    },
    {
      "cell_type": "code",
      "metadata": {
        "id": "L578NP41NDSv",
        "colab": {
          "base_uri": "https://localhost:8080/"
        },
        "outputId": "2b903862-c7b4-4ca2-cd0c-3e4dd806fc8a"
      },
      "source": [
        "!mkdir ../new_train_images_2"
      ],
      "execution_count": null,
      "outputs": [
        {
          "output_type": "stream",
          "text": [
            "mkdir: cannot create directory ‘../new_train_images_2’: File exists\n"
          ],
          "name": "stdout"
        }
      ]
    },
    {
      "cell_type": "code",
      "metadata": {
        "id": "T0jqvGjly4MM"
      },
      "source": [
        "for i in list(unique.astype('int64')):\n",
        "  os.mkdir('../new_train_images_2/'+str(i))"
      ],
      "execution_count": null,
      "outputs": []
    },
    {
      "cell_type": "code",
      "metadata": {
        "colab": {
          "base_uri": "https://localhost:8080/",
          "height": 268
        },
        "id": "tBV_kTFjT4FY",
        "outputId": "f0163b2e-9426-4dac-bb45-bd0bdc9fd715"
      },
      "source": [
        "plt.imshow(extracted_images[21][1])"
      ],
      "execution_count": null,
      "outputs": [
        {
          "output_type": "execute_result",
          "data": {
            "text/plain": [
              "<matplotlib.image.AxesImage at 0x7f3892ade668>"
            ]
          },
          "metadata": {
            "tags": []
          },
          "execution_count": 13
        },
        {
          "output_type": "display_data",
          "data": {
            "image/png": "[encoded data removed]",
            "text/plain": [
              "<Figure size 432x288 with 1 Axes>"
            ]
          },
          "metadata": {
            "tags": [],
            "needs_background": "light"
          }
        }
      ]
    },
    {
      "cell_type": "code",
      "metadata": {
        "id": "1uFRMZOnbpDk"
      },
      "source": [
        "[extracted_images[i][1].shape for i in range(len(extracted_images))]"
      ],
      "execution_count": null,
      "outputs": []
    },
    {
      "cell_type": "code",
      "metadata": {
        "id": "owMbOmerYTJd"
      },
      "source": [
        "im = Image.fromarray(extracted_images[44][1])\n",
        "im.save(\"demo.jpg\")"
      ],
      "execution_count": null,
      "outputs": []
    },
    {
      "cell_type": "code",
      "metadata": {
        "colab": {
          "base_uri": "https://localhost:8080/",
          "height": 284
        },
        "id": "bual0CznMkYn",
        "outputId": "36f48b70-b8f2-4ac5-fad0-53ed825bae56"
      },
      "source": [
        "plt.imshow(extracted_images[8][1])\n",
        "extracted_images[8][0]"
      ],
      "execution_count": null,
      "outputs": [
        {
          "output_type": "execute_result",
          "data": {
            "application/vnd.google.colaboratory.intrinsic+json": {
              "type": "string"
            },
            "text/plain": [
              "'Small Car'"
            ]
          },
          "metadata": {
            "tags": []
          },
          "execution_count": 20
        },
        {
          "output_type": "display_data",
          "data": {
            "image/png": "[encoded data removed]",
            "text/plain": [
              "<Figure size 432x288 with 1 Axes>"
            ]
          },
          "metadata": {
            "tags": [],
            "needs_background": "light"
          }
        }
      ]
    },
    {
      "cell_type": "code",
      "metadata": {
        "collapsed": true,
        "id": "hK7nHFIZ1jXo"
      },
      "source": [
        "#Load the class number -> class string label map\n",
        "labels = {}\n",
        "with open('xview_class_labels.txt') as f:\n",
        "    for row in csv.reader(f):\n",
        "        labels[int(row[0].split(\":\")[0])] = row[0].split(\":\")[1]"
      ],
      "execution_count": null,
      "outputs": []
    },
    {
      "cell_type": "code",
      "metadata": {
        "colab": {
          "base_uri": "https://localhost:8080/",
          "height": 35
        },
        "id": "17uZtOvELXkK",
        "outputId": "268fefd6-f639-4129-eb3d-aa93bc96427c"
      },
      "source": [
        "labels[12]"
      ],
      "execution_count": null,
      "outputs": [
        {
          "output_type": "execute_result",
          "data": {
            "application/vnd.google.colaboratory.intrinsic+json": {
              "type": "string"
            },
            "text/plain": [
              "'Small Aircraft'"
            ]
          },
          "metadata": {
            "tags": []
          },
          "execution_count": 136
        }
      ]
    },
    {
      "cell_type": "code",
      "metadata": {
        "id": "k4UEWj1-Bvat"
      },
      "source": [
        ""
      ],
      "execution_count": null,
      "outputs": []
    },
    {
      "cell_type": "code",
      "metadata": {
        "id": "TkpsKqwoX7O9"
      },
      "source": [
        "import requests \n",
        "train_data_url = \"https://d307kc0mrhucc3.cloudfront.net/train_images.tgz?Expires=1613610133&Signature=RXMiTYa4KDt4CA5lBnvzfGbzla9QZ-R2HWMOXXc7IZUJDRB1dM2GJ7nvH7VmrTSEpgLaCItP9rIujcmz2sVlmBIQLeSwNbMZElXBowY~LYFun2MXcI9DbLGNb9cCgoZakb4TV1nShNxk0a0VVIOGrGBSrC3HRxThwpFiVwvmtoizlKUtdR9WBAl7dMPrz4EzMFDoyEMsDPgX~7IkCO0Rq6b8ZqhVG1IpF7w0AK4zOSgAtdGQw6cnO9bWIMmFsTn5HHcmQHBZPVnxM~~Vd46rNFVO0vtJkAnI7axYuS0DG7h7CZgvNYs8gWg6K5-2QLc32BsrNq~zHn3CZ0U2cfI5QQ__&Key-Pair-Id=APKAIKGDJB5C3XUL2DXQ\"\n",
        "train_label_url = \"https://d307kc0mrhucc3.cloudfront.net/train_labels.tgz?Expires=1613610133&Signature=LApkZrOoj6biVxVQUw7fQUABoqu91SXR0f8WknFi~2claRwDQnt3UVl2m9DBG1lbCrKzm~mpgXE-JrbLKAO584C2gl5KtzQyUrbmd2OZlF8JPZnUo7jjRNc7X8xHA0fd01KGZrv0G30Wm-H2stTWTekxikdSMupe6R07Xrjan-c3Rpm9-qTYCURjDrIYQkNrsdVHkGbX7bain87t9rd1NUT-y~vRRUbrMMTvaRpr2GfAeWXcA4CoW0ocSknZgwOWG9xzSGCPUI2w9iEIdP9KxnRgj~iz9vx7vjlVVTuZawJ8GVRwiKJMLUrxp1kryWaKeqjerOsF1U3IMCHlVSyrEA__&Key-Pair-Id=APKAIKGDJB5C3XUL2DXQ\"\n",
        "val_data_url = \"https://d307kc0mrhucc3.cloudfront.net/val_images.tgz?Expires=1613610133&Signature=LajBHSDJtytUmYt2ZDgPP9fPBPw~weaCoLNd62FQ8a05tnTiFnCbdYQuFvAF-bZD0qyiaSSHHsWxA5PxpqDyknlWi8x0Tthlf34k7tVZejJOHJTQnbvWIsMjnBAdxVwRbtvg3YZe9kXHpiaRWkGqX7p30dQuTaeAbGed4Zbf82Gk2Uv0IIzWFBRb4WHI9X-jlaV6068NxXF-2N1ihiO7UTgiz-Hp3e~n2GBtCnN-fwY2zeRf5~6WTR2vLPot~c95ktpAEvRljke6JekyppqOXvdeLDScEX5qvC9M99wE8RuTlC71Qd3y4yBXKShNB-3R85wBJU-AqVRh7VVK0fLckQ__&Key-Pair-Id=APKAIKGDJB5C3XUL2DXQ\"\n",
        "\n",
        "file_names = [\"train_images\"]\n",
        "data_urls = [train_data_url]\n",
        "file_url = zip(file_names,data_urls)\n",
        "\n",
        "for file_name, data_url in file_url:\n",
        "  r = requests.get(data_url, stream = True) \n",
        "  with open(work_dir+data_dir+file_name+'.tgz', \"wb\") as file: \n",
        "    for block in r.iter_content(chunk_size = 1024): \n",
        "      if block: \n",
        "        file.write(block) "
      ],
      "execution_count": 4,
      "outputs": []
    },
    {
      "cell_type": "code",
      "metadata": {
        "colab": {
          "base_uri": "https://localhost:8080/"
        },
        "id": "LrfOUTjqqQnd",
        "outputId": "e391e461-3c56-4823-886e-0c091d6ace90"
      },
      "source": [
        "train_data_url = \"https://d307kc0mrhucc3.cloudfront.net/train_images.tgz?Expires=1613610133&Signature=RXMiTYa4KDt4CA5lBnvzfGbzla9QZ-R2HWMOXXc7IZUJDRB1dM2GJ7nvH7VmrTSEpgLaCItP9rIujcmz2sVlmBIQLeSwNbMZElXBowY~LYFun2MXcI9DbLGNb9cCgoZakb4TV1nShNxk0a0VVIOGrGBSrC3HRxThwpFiVwvmtoizlKUtdR9WBAl7dMPrz4EzMFDoyEMsDPgX~7IkCO0Rq6b8ZqhVG1IpF7w0AK4zOSgAtdGQw6cnO9bWIMmFsTn5HHcmQHBZPVnxM~~Vd46rNFVO0vtJkAnI7axYuS0DG7h7CZgvNYs8gWg6K5-2QLc32BsrNq~zHn3CZ0U2cfI5QQ__&Key-Pair-Id=APKAIKGDJB5C3XUL2DXQ\"\n",
        "train_label_url = \"https://d307kc0mrhucc3.cloudfront.net/train_labels.tgz?Expires=1613610133&Signature=LApkZrOoj6biVxVQUw7fQUABoqu91SXR0f8WknFi~2claRwDQnt3UVl2m9DBG1lbCrKzm~mpgXE-JrbLKAO584C2gl5KtzQyUrbmd2OZlF8JPZnUo7jjRNc7X8xHA0fd01KGZrv0G30Wm-H2stTWTekxikdSMupe6R07Xrjan-c3Rpm9-qTYCURjDrIYQkNrsdVHkGbX7bain87t9rd1NUT-y~vRRUbrMMTvaRpr2GfAeWXcA4CoW0ocSknZgwOWG9xzSGCPUI2w9iEIdP9KxnRgj~iz9vx7vjlVVTuZawJ8GVRwiKJMLUrxp1kryWaKeqjerOsF1U3IMCHlVSyrEA__&Key-Pair-Id=APKAIKGDJB5C3XUL2DXQ\"\n",
        "val_data_url = \"https://d307kc0mrhucc3.cloudfront.net/val_images.tgz?Expires=1613610133&Signature=LajBHSDJtytUmYt2ZDgPP9fPBPw~weaCoLNd62FQ8a05tnTiFnCbdYQuFvAF-bZD0qyiaSSHHsWxA5PxpqDyknlWi8x0Tthlf34k7tVZejJOHJTQnbvWIsMjnBAdxVwRbtvg3YZe9kXHpiaRWkGqX7p30dQuTaeAbGed4Zbf82Gk2Uv0IIzWFBRb4WHI9X-jlaV6068NxXF-2N1ihiO7UTgiz-Hp3e~n2GBtCnN-fwY2zeRf5~6WTR2vLPot~c95ktpAEvRljke6JekyppqOXvdeLDScEX5qvC9M99wE8RuTlC71Qd3y4yBXKShNB-3R85wBJU-AqVRh7VVK0fLckQ__&Key-Pair-Id=APKAIKGDJB5C3XUL2DXQ\"\n",
        "folder_names = [\"train_images\", \"train_labels\",'val_images']\n",
        "data_urls = [train_data_url, train_label_url, val_data_url]\n",
        "folder_url = zip(folder_names,data_urls)\n",
        "for i,h in folder_url:\n",
        "  print(i,h)"
      ],
      "execution_count": null,
      "outputs": [
        {
          "output_type": "stream",
          "text": [
            "train_images https://d307kc0mrhucc3.cloudfront.net/train_images.tgz?Expires=1613610133&Signature=RXMiTYa4KDt4CA5lBnvzfGbzla9QZ-R2HWMOXXc7IZUJDRB1dM2GJ7nvH7VmrTSEpgLaCItP9rIujcmz2sVlmBIQLeSwNbMZElXBowY~LYFun2MXcI9DbLGNb9cCgoZakb4TV1nShNxk0a0VVIOGrGBSrC3HRxThwpFiVwvmtoizlKUtdR9WBAl7dMPrz4EzMFDoyEMsDPgX~7IkCO0Rq6b8ZqhVG1IpF7w0AK4zOSgAtdGQw6cnO9bWIMmFsTn5HHcmQHBZPVnxM~~Vd46rNFVO0vtJkAnI7axYuS0DG7h7CZgvNYs8gWg6K5-2QLc32BsrNq~zHn3CZ0U2cfI5QQ__&Key-Pair-Id=APKAIKGDJB5C3XUL2DXQ\n",
            "train_labels https://d307kc0mrhucc3.cloudfront.net/train_labels.tgz?Expires=1613610133&Signature=LApkZrOoj6biVxVQUw7fQUABoqu91SXR0f8WknFi~2claRwDQnt3UVl2m9DBG1lbCrKzm~mpgXE-JrbLKAO584C2gl5KtzQyUrbmd2OZlF8JPZnUo7jjRNc7X8xHA0fd01KGZrv0G30Wm-H2stTWTekxikdSMupe6R07Xrjan-c3Rpm9-qTYCURjDrIYQkNrsdVHkGbX7bain87t9rd1NUT-y~vRRUbrMMTvaRpr2GfAeWXcA4CoW0ocSknZgwOWG9xzSGCPUI2w9iEIdP9KxnRgj~iz9vx7vjlVVTuZawJ8GVRwiKJMLUrxp1kryWaKeqjerOsF1U3IMCHlVSyrEA__&Key-Pair-Id=APKAIKGDJB5C3XUL2DXQ\n",
            "val_images https://d307kc0mrhucc3.cloudfront.net/val_images.tgz?Expires=1613610133&Signature=LajBHSDJtytUmYt2ZDgPP9fPBPw~weaCoLNd62FQ8a05tnTiFnCbdYQuFvAF-bZD0qyiaSSHHsWxA5PxpqDyknlWi8x0Tthlf34k7tVZejJOHJTQnbvWIsMjnBAdxVwRbtvg3YZe9kXHpiaRWkGqX7p30dQuTaeAbGed4Zbf82Gk2Uv0IIzWFBRb4WHI9X-jlaV6068NxXF-2N1ihiO7UTgiz-Hp3e~n2GBtCnN-fwY2zeRf5~6WTR2vLPot~c95ktpAEvRljke6JekyppqOXvdeLDScEX5qvC9M99wE8RuTlC71Qd3y4yBXKShNB-3R85wBJU-AqVRh7VVK0fLckQ__&Key-Pair-Id=APKAIKGDJB5C3XUL2DXQ\n"
          ],
          "name": "stdout"
        }
      ]
    }
  ]
}