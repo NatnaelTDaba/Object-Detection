{
 "cells": [
  {
   "cell_type": "markdown",
   "metadata": {
    "id": "view-in-github"
   },
   "source": [
    "5<a href=\"https://colab.research.google.com/github/NatnaelTDaba/Object-Detection/blob/master/xView_Processing.ipynb\" target=\"_parent\"><img src=\"https://colab.research.google.com/assets/colab-badge.svg\" alt=\"Open In Colab\"/></a>"
   ]
  },
  {
   "cell_type": "raw",
   "metadata": {
    "colab": {
     "base_uri": "https://localhost:8080/"
    },
    "executionInfo": {
     "elapsed": 94552,
     "status": "ok",
     "timestamp": 1614106342462,
     "user": {
      "displayName": "Natnael Taye",
      "photoUrl": "https://lh3.googleusercontent.com/a-/AOh14GhLsOfPayUDuhnA0fYfbsxcWRCTOwPzHALWfRPL8g=s64",
      "userId": "14979943471241687010"
     },
     "user_tz": 300
    },
    "id": "OEGNHHlN1pKO",
    "outputId": "61b9eed3-b286-4f15-c830-3155af7dd8f0"
   },
   "source": [
    "from google.colab import drive\n",
    "drive.mount('/content/drive')"
   ]
  },
  {
   "cell_type": "raw",
   "metadata": {},
   "source": [
    "import requests \n",
    "from tqdm import tqdm\n",
    "file_url = [\"https://d307kc0mrhucc3.cloudfront.net/train_images.tgz?Expires=1614387555&Signature=NBrilUhHPZgQPsWZLnt1z~qxZw3joeiA7X9wD0FxZBFdrwZgURgew0q2RJitOpwrs~DanTIpBESPz3kB6wvpD89-Xhyn9L3GxQioWSylbmkKHRKNdhCvmnwOsKuJ11vrBogBDdtilVlfnGeIT1e9ERh~fYkfKJQlpP8wEUJE3TVvSjSZ6yb7fpeq6XlQEgXiky7~wxYtr457D3c5fwLJdotnDFJAVU2rDnhevv4~PhLwDXFCdB5Fq-MLqCAn5gOAtZtuW643r~hluwiov9Xezhk2uvAaQeQJNwupl3DfFc4lbxYVaiXRP5-ApCi~U~cYq0D-BUqF3XxYDN4pRYXc7A__&Key-Pair-Id=APKAIKGDJB5C3XUL2DXQ\",\n",
    "            \"https://d307kc0mrhucc3.cloudfront.net/train_labels.tgz?Expires=1614387555&Signature=e~93prunA1dNTN22YV4-fJ4VOnFjWce1DiU2kLkmZkMu5UbEesBh5Hrqr9gRsF~6F6-hkoi-bGbDyGS2h7DZ9cAATbNV7Ka8ILgxl75xhR468e6Sahzo4IeJdJFhoJ4TNS~UoJX4s~mNjwhOAeJ-BhKr2nJ~aB9G1iRV-MNi0Q~ibtHxv3We7KWG3p9PNM-4nnOTGnKK9OwTlhMesXBnkk206ahOJVidlfL3-XlaW6zQiPHeAX4X-BA8xHbcR5JS99Y6FvL-u5nioNvI2MTPWcSyJZuWAp9q1E9jZ8yS~N2qoENUq0XLMrTCpDgjlrAuXmuHjTJxJo50uwSj2n3Pkg__&Key-Pair-Id=APKAIKGDJB5C3XUL2DXQ\"]            \n",
    "r = requests.get(file_url[1], stream = True) \n",
    "\n",
    "with open(work_dir+'/train_labels.tgz', \"wb\") as file:\n",
    "    for block in r.iter_content(chunk_size = 1024):\n",
    "        if block:\n",
    "            file.write(block) "
   ]
  },
  {
   "cell_type": "code",
   "execution_count": 1,
   "metadata": {
    "executionInfo": {
     "elapsed": 628,
     "status": "ok",
     "timestamp": 1614106348116,
     "user": {
      "displayName": "Natnael Taye",
      "photoUrl": "https://lh3.googleusercontent.com/a-/AOh14GhLsOfPayUDuhnA0fYfbsxcWRCTOwPzHALWfRPL8g=s64",
      "userId": "14979943471241687010"
     },
     "user_tz": 300
    },
    "id": "R_ZRITt62LeG"
   },
   "outputs": [],
   "source": [
    "import os\n",
    "import sys\n",
    "work_dir = '/home/abhijit/nat/Object-Detection'\n",
    "data_dir = work_dir+'/data/'\n",
    "util_dir = work_dir+'/data_utilities/'\n",
    "os.chdir(work_dir)\n",
    "sys.path.append(util_dir)\n",
    "sys.path.append(data_dir)"
   ]
  },
  {
   "cell_type": "code",
   "execution_count": 2,
   "metadata": {
    "executionInfo": {
     "elapsed": 4995,
     "status": "ok",
     "timestamp": 1614106353811,
     "user": {
      "displayName": "Natnael Taye",
      "photoUrl": "https://lh3.googleusercontent.com/a-/AOh14GhLsOfPayUDuhnA0fYfbsxcWRCTOwPzHALWfRPL8g=s64",
      "userId": "14979943471241687010"
     },
     "user_tz": 300
    },
    "id": "cNJa0Z4C1jXh"
   },
   "outputs": [],
   "source": [
    "import aug_util as aug\n",
    "import wv_util as wv\n",
    "import matplotlib.pyplot as plt\n",
    "import numpy as np\n",
    "import csv\n",
    "%matplotlib inline\n",
    "from PIL import Image, ImageDraw # to read images\n",
    "#import cv2\n",
    "from tqdm import tqdm\n",
    "import pickle\n",
    "import torch\n",
    "import torchvision\n",
    "from torch.utils.tensorboard import SummaryWriter\n",
    "from torchvision.datasets import ImageFolder\n",
    "import torchvision.transforms as transforms"
   ]
  },
  {
   "cell_type": "code",
   "execution_count": 3,
   "metadata": {
    "colab": {
     "base_uri": "https://localhost:8080/"
    },
    "executionInfo": {
     "elapsed": 21011,
     "status": "ok",
     "timestamp": 1614106379543,
     "user": {
      "displayName": "Natnael Taye",
      "photoUrl": "https://lh3.googleusercontent.com/a-/AOh14GhLsOfPayUDuhnA0fYfbsxcWRCTOwPzHALWfRPL8g=s64",
      "userId": "14979943471241687010"
     },
     "user_tz": 300
    },
    "id": "uVS_62Kx1jXo",
    "outputId": "f9337eb3-cd53-4f4b-e951-dfe1a9f016f2"
   },
   "outputs": [
    {
     "name": "stderr",
     "output_type": "stream",
     "text": [
      "100%|██████████| 601937/601937 [00:03<00:00, 194238.08it/s]\n"
     ]
    }
   ],
   "source": [
    "#Loading our labels\n",
    "coords, chips, classes = wv.get_labels(data_dir+'xView_train.geojson')"
   ]
  },
  {
   "cell_type": "code",
   "execution_count": 4,
   "metadata": {
    "executionInfo": {
     "elapsed": 592,
     "status": "ok",
     "timestamp": 1614106381131,
     "user": {
      "displayName": "Natnael Taye",
      "photoUrl": "https://lh3.googleusercontent.com/a-/AOh14GhLsOfPayUDuhnA0fYfbsxcWRCTOwPzHALWfRPL8g=s64",
      "userId": "14979943471241687010"
     },
     "user_tz": 300
    },
    "id": "21gQ7pzbQDkZ"
   },
   "outputs": [],
   "source": [
    "labels = {}\n",
    "with open(util_dir+'xview_class_labels.txt') as f:\n",
    "    for row in csv.reader(f):\n",
    "        labels[int(row[0].split(\":\")[0])] = row[0].split(\":\")[1]\n",
    "\n",
    "valid_labels = list(labels.keys())"
   ]
  },
  {
   "cell_type": "code",
   "execution_count": 12,
   "metadata": {
    "id": "d606klytlSMz"
   },
   "outputs": [
    {
     "data": {
      "text/plain": [
       "60"
      ]
     },
     "execution_count": 12,
     "metadata": {},
     "output_type": "execute_result"
    }
   ],
   "source": [
    "open_file = open(\"valid_chip_names.pkl\", \"rb\")\n",
    "valid_chip_names = pickle.load(open_file)\n",
    "open_file.close()\n",
    "\n",
    "open_file = open(\"id_label_map.pkl\", \"rb\")\n",
    "id2label = pickle.load(open_file)\n",
    "open_file.close()\n",
    "\n",
    "len(id2label)"
   ]
  },
  {
   "cell_type": "code",
   "execution_count": 8,
   "metadata": {
    "colab": {
     "base_uri": "https://localhost:8080/"
    },
    "executionInfo": {
     "elapsed": 423,
     "status": "ok",
     "timestamp": 1613772033651,
     "user": {
      "displayName": "Natnael Taye",
      "photoUrl": "https://lh3.googleusercontent.com/a-/AOh14GhLsOfPayUDuhnA0fYfbsxcWRCTOwPzHALWfRPL8g=s64",
      "userId": "14979943471241687010"
     },
     "user_tz": 300
    },
    "id": "ON3WEuc_GnFW",
    "outputId": "1a9b0db5-36ba-4acf-cae6-ae16993e75fc"
   },
   "outputs": [
    {
     "data": {
      "text/plain": [
       "846"
      ]
     },
     "execution_count": 8,
     "metadata": {},
     "output_type": "execute_result"
    }
   ],
   "source": [
    "len(valid_chip_names)"
   ]
  },
  {
   "cell_type": "code",
   "execution_count": 11,
   "metadata": {},
   "outputs": [
    {
     "data": {
      "text/plain": [
       "{11: 'Fixed-wing Aircraft',\n",
       " 12: 'Small Aircraft',\n",
       " 13: 'Cargo Plane',\n",
       " 15: 'Helicopter',\n",
       " 17: 'Passenger Vehicle',\n",
       " 18: 'Small Car',\n",
       " 19: 'Bus',\n",
       " 20: 'Pickup Truck',\n",
       " 21: 'Utility Truck',\n",
       " 23: 'Truck',\n",
       " 24: 'Cargo Truck',\n",
       " 25: 'Truck w/Box',\n",
       " 26: 'Truck Tractor',\n",
       " 27: 'Trailer',\n",
       " 28: 'Truck w/Flatbed',\n",
       " 29: 'Truck w/Liquid',\n",
       " 32: 'Crane Truck',\n",
       " 33: 'Railway Vehicle',\n",
       " 34: 'Passenger Car',\n",
       " 35: 'Cargo Car',\n",
       " 36: 'Flat Car',\n",
       " 37: 'Tank car',\n",
       " 38: 'Locomotive',\n",
       " 40: 'Maritime Vessel',\n",
       " 41: 'Motorboat',\n",
       " 42: 'Sailboat',\n",
       " 44: 'Tugboat',\n",
       " 45: 'Barge',\n",
       " 47: 'Fishing Vessel',\n",
       " 49: 'Ferry',\n",
       " 50: 'Yacht',\n",
       " 51: 'Container Ship',\n",
       " 52: 'Oil Tanker',\n",
       " 53: 'Engineering Vehicle',\n",
       " 54: 'Tower crane',\n",
       " 55: 'Container Crane',\n",
       " 56: 'Reach Stacker',\n",
       " 57: 'Straddle Carrier',\n",
       " 59: 'Mobile Crane',\n",
       " 60: 'Dump Truck',\n",
       " 61: 'Haul Truck',\n",
       " 62: 'Scraper/Tractor',\n",
       " 63: 'Front loader/Bulldozer',\n",
       " 64: 'Excavator',\n",
       " 65: 'Cement Mixer',\n",
       " 66: 'Ground Grader',\n",
       " 71: 'Hut/Tent',\n",
       " 72: 'Shed',\n",
       " 73: 'Building',\n",
       " 74: 'Aircraft Hangar',\n",
       " 76: 'Damaged Building',\n",
       " 77: 'Facility',\n",
       " 79: 'Construction Site',\n",
       " 83: 'Vehicle Lot',\n",
       " 84: 'Helipad',\n",
       " 86: 'Storage Tank',\n",
       " 89: 'Shipping container lot',\n",
       " 91: 'Shipping Container',\n",
       " 93: 'Pylon',\n",
       " 94: 'Tower'}"
      ]
     },
     "execution_count": 11,
     "metadata": {},
     "output_type": "execute_result"
    }
   ],
   "source": [
    "id2label"
   ]
  },
  {
   "cell_type": "code",
   "execution_count": 9,
   "metadata": {
    "id": "Dn0x6Ta3oVpP"
   },
   "outputs": [],
   "source": [
    "unique, counts = np.unique(classes, return_counts=True)\n",
    "class_counts = {k:0 for k in list(unique.astype('int64'))}"
   ]
  },
  {
   "cell_type": "code",
   "execution_count": 10,
   "metadata": {},
   "outputs": [
    {
     "data": {
      "text/plain": [
       "array([11., 12., 13., 15., 17., 18., 19., 20., 21., 23., 24., 25., 26.,\n",
       "       27., 28., 29., 32., 33., 34., 35., 36., 37., 38., 40., 41., 42.,\n",
       "       44., 45., 47., 49., 50., 51., 52., 53., 54., 55., 56., 57., 59.,\n",
       "       60., 61., 62., 63., 64., 65., 66., 71., 72., 73., 74., 75., 76.,\n",
       "       77., 79., 82., 83., 84., 86., 89., 91., 93., 94.])"
      ]
     },
     "execution_count": 10,
     "metadata": {},
     "output_type": "execute_result"
    }
   ],
   "source": [
    "unique"
   ]
  },
  {
   "cell_type": "code",
   "execution_count": 8,
   "metadata": {
    "colab": {
     "base_uri": "https://localhost:8080/"
    },
    "executionInfo": {
     "elapsed": 4824302,
     "status": "ok",
     "timestamp": 1613776964508,
     "user": {
      "displayName": "Natnael Taye",
      "photoUrl": "https://lh3.googleusercontent.com/a-/AOh14GhLsOfPayUDuhnA0fYfbsxcWRCTOwPzHALWfRPL8g=s64",
      "userId": "14979943471241687010"
     },
     "user_tz": 300
    },
    "id": "1k87CjPk4mq7",
    "outputId": "70c68bfc-7538-44ac-bc5b-dbb6ece17681"
   },
   "outputs": [
    {
     "name": "stderr",
     "output_type": "stream",
     "text": [
      "100%|██████████| 847/847 [06:54<00:00,  2.04it/s]\n",
      "100%|██████████| 847/847 [06:54<00:00,  2.04it/s]"
     ]
    },
    {
     "name": "stdout",
     "output_type": "stream",
     "text": [
      "\n",
      "Number of extracted images: 593162\n",
      "Number of chips processed: 846\n"
     ]
    },
    {
     "name": "stderr",
     "output_type": "stream",
     "text": [
      "\n"
     ]
    }
   ],
   "source": [
    "org_data_dir = data_dir+'train_images/'\n",
    "tgt_data_dir = data_dir+'new_train_images/'\n",
    "chip_names = list(np.unique(chips))\n",
    "k = 0\n",
    "\n",
    "imgs_processed = 0\n",
    "\n",
    "with tqdm(total=len(chip_names), position=0, leave=True) as pbar:\n",
    "\n",
    "  for chip_name in tqdm(chip_names, position=0, leave=True):\n",
    "\n",
    "    if chip_name in valid_chip_names:\n",
    "\n",
    "      chip = np.array(Image.open(org_data_dir+chip_name))\n",
    "\n",
    "      chip_bboxes = coords[chips==chip_name]\n",
    "      bbox_classes = classes[chips==chip_name].astype(np.int64)\n",
    "      imgs_processed += 1\n",
    "      for i in range(len(chip_bboxes)):\n",
    "\n",
    "        cropped_img = chip[int(chip_bboxes[i][1])-10:int(chip_bboxes[i][3])+10, int(chip_bboxes[i][0])-10:int(chip_bboxes[i][2])+10]\n",
    "\n",
    "        if cropped_img.shape[0] > 0 and cropped_img.shape[1] > 0:\n",
    "\n",
    "          im = Image.fromarray(cropped_img)\n",
    "          im.save(tgt_data_dir+str(bbox_classes[i])+'/'+str(k+1)+'.jpg')\n",
    "          k += 1\n",
    "          class_counts[bbox_classes[i]] += 1\n",
    "\n",
    "    pbar.update()\n",
    "\n",
    "print(\"\\nNumber of extracted images:\", k)\n",
    "print(\"Number of chips processed:\", imgs_processed)"
   ]
  },
  {
   "cell_type": "code",
   "execution_count": 151,
   "metadata": {},
   "outputs": [],
   "source": [
    "transform=transforms.Compose([\n",
    "            transforms.Resize((32,32)),\n",
    "            transforms.ToTensor()])\n",
    "\n",
    "dataset = ImageFolder(data_dir+'new_train_images/',transform=transform)\n",
    "\n",
    "trainloader = torch.utils.data.DataLoader(dataset, batch_size=25,\n",
    "                                        shuffle=True)\n",
    "idx_to_class = {v: k for k, v in dataset.class_to_idx.items()}\n",
    "\n",
    "dataiter = iter(trainloader)\n",
    "images, labels = dataiter.next()\n",
    "\n",
    "img_grid = torchvision.utils.make_grid(images)"
   ]
  },
  {
   "cell_type": "code",
   "execution_count": 152,
   "metadata": {},
   "outputs": [],
   "source": [
    "def matplotlib_imshow(img, one_channel=False):\n",
    "    if one_channel:\n",
    "        img = img.mean(dim=0)\n",
    "    #img = img / 2 + 0.5     # unnormalize\n",
    "    npimg = img.numpy()\n",
    "    if one_channel:\n",
    "        plt.imshow(npimg, cmap=\"Greys\")\n",
    "    else:\n",
    "        plt.imshow(np.transpose(npimg, (1, 2, 0)))\n",
    "        \n",
    "def plot_classes_preds(images, labels):\n",
    "    \n",
    "    # plot the images in the batch, along with predicted and true labels\n",
    "    fig = plt.figure(figsize=(15, 15))\n",
    "    for idx in np.arange(len(images)):\n",
    "        ax = fig.add_subplot(5, 5, idx+1, xticks=[], yticks=[])\n",
    "        ax.set_title(id2label[int(idx_to_class[labels[idx].item()])])\n",
    "        matplotlib_imshow(images[idx])\n",
    "    return fig\n",
    "writer = SummaryWriter('runs/Object_detection_experiment_'+str(np.random.randint(0,1000)),flush_secs=1)\n",
    "writer.add_figure('Images and labels', plot_classes_preds(images, labels))"
   ]
  },
  {
   "cell_type": "raw",
   "metadata": {
    "colab": {
     "base_uri": "https://localhost:8080/"
    },
    "executionInfo": {
     "elapsed": 1193968,
     "status": "ok",
     "timestamp": 1613779493024,
     "user": {
      "displayName": "Natnael Taye",
      "photoUrl": "https://lh3.googleusercontent.com/a-/AOh14GhLsOfPayUDuhnA0fYfbsxcWRCTOwPzHALWfRPL8g=s64",
      "userId": "14979943471241687010"
     },
     "user_tz": 300
    },
    "id": "kX-bASRrt76o",
    "outputId": "06acb43d-e988-4059-81f1-b9ce8150f277"
   },
   "source": [
    "new_pixel_areas = []\n",
    "old_pixel_areas = []\n",
    "low_thresh = 6\n",
    "high_thresh = 10\n",
    "num_removed_images = 0\n",
    "with tqdm(total=60, position=0, leave=True) as pbar:\n",
    "  for subdir, dirs, files in tqdm(os.walk(data_dir+'new_train_images/'), position=0, leave=True):\n",
    "      for filename in files:\n",
    "        filepath = subdir + os.sep + filename\n",
    "        if filepath.endswith(\".jpg\"):\n",
    "          img = np.array(Image.open(filepath))\n",
    "          area = img.shape[0]*img.shape[1]\n",
    "          old_pixel_areas.append(area)\n",
    "          if (np.log(area) > high_thresh) or (np.log(area) < low_thresh):\n",
    "            os.remove(filepath)\n",
    "            num_removed_images+=1\n",
    "          else:\n",
    "            new_pixel_areas.append(area)\n",
    "\n",
    "      pbar.update()"
   ]
  },
  {
   "cell_type": "code",
   "execution_count": null,
   "metadata": {
    "id": "wtljAZR4BmPQ"
   },
   "outputs": [],
   "source": []
  },
  {
   "cell_type": "code",
   "execution_count": null,
   "metadata": {
    "id": "mOVq1jPwBmRp"
   },
   "outputs": [],
   "source": []
  },
  {
   "cell_type": "code",
   "execution_count": null,
   "metadata": {
    "id": "CrCVWX46BmT6"
   },
   "outputs": [],
   "source": []
  },
  {
   "cell_type": "code",
   "execution_count": null,
   "metadata": {
    "id": "w853IPbgBmX9"
   },
   "outputs": [],
   "source": []
  },
  {
   "cell_type": "code",
   "execution_count": null,
   "metadata": {
    "id": "AueqaC_gBnJV"
   },
   "outputs": [],
   "source": []
  },
  {
   "cell_type": "code",
   "execution_count": 166,
   "metadata": {
    "colab": {
     "base_uri": "https://localhost:8080/"
    },
    "executionInfo": {
     "elapsed": 343542,
     "status": "ok",
     "timestamp": 1614106748089,
     "user": {
      "displayName": "Natnael Taye",
      "photoUrl": "https://lh3.googleusercontent.com/a-/AOh14GhLsOfPayUDuhnA0fYfbsxcWRCTOwPzHALWfRPL8g=s64",
      "userId": "14979943471241687010"
     },
     "user_tz": 300
    },
    "id": "sW0oK6W-_5n1",
    "outputId": "81ca46ff-c713-4cc5-9b07-df208252388b"
   },
   "outputs": [
    {
     "name": "stdout",
     "output_type": "stream",
     "text": [
      "               Haul Truck        327\n",
      "                 Tank car        120\n",
      "              Cargo Truck       5853\n",
      "         Straddle Carrier         60\n",
      "              Vehicle Lot       4107\n",
      "                 Sailboat        692\n",
      "      Engineering Vehicle        205\n",
      "                Cargo Car       1820\n",
      "                    Tower         84\n",
      "          Railway Vehicle         17\n",
      "                  Helipad        121\n",
      "                  Tugboat        218\n",
      "      Fixed-wing Aircraft         73\n",
      "             Pickup Truck       1096\n",
      "              Truck w/Box       3591\n",
      "   Front loader/Bulldozer        627\n",
      "          Container Crane        174\n",
      "             Mobile Crane        320\n",
      "          Scraper/Tractor         78\n",
      "                     Shed       1181\n",
      "        Construction Site       1112\n",
      "               Helicopter         69\n",
      "               Locomotive        121\n",
      "         Damaged Building       1065\n",
      "           Container Ship        304\n",
      "               Dump Truck       1351\n",
      "                 Hut/Tent        708\n",
      "                      Bus       6895\n",
      "            Passenger Car       1596\n",
      "                Small Car     210533\n",
      "             Storage Tank       1664\n",
      "          Aircraft Hangar        198\n",
      "           Small Aircraft        359\n",
      "       Shipping Container       1575\n",
      "                    Pylon        361\n",
      "            Truck Tractor        856\n",
      "        Passenger Vehicle       2932\n",
      "           Fishing Vessel        751\n",
      "            Ground Grader         83\n",
      "                    Barge        185\n",
      "   Shipping container lot       2258\n",
      "                Motorboat       1455\n",
      "                 Building     310534\n",
      "                       -1         24\n",
      "                    Yacht        440\n",
      "            Utility Truck       3598\n",
      "                 Facility        892\n",
      "               Oil Tanker         76\n",
      "                 Flat Car        124\n",
      "              Cargo Plane        667\n",
      "          Truck w/Flatbed        887\n",
      "                       -1         47\n",
      "          Maritime Vessel        667\n",
      "            Reach Stacker         69\n",
      "              Tower crane        150\n",
      "             Cement Mixer        287\n",
      "                    Ferry        192\n",
      "           Truck w/Liquid        147\n",
      "              Crane Truck        174\n",
      "                  Trailer       4068\n",
      "                Excavator        836\n",
      "                    Truck      12088\n",
      "593162\n"
     ]
    }
   ],
   "source": [
    "total_num_of_images = 0\n",
    "class_counts_new = {}\n",
    "for subdir, dirs, files in os.walk(data_dir+'new_train_images'):\n",
    "    if subdir[-2:]!='es':\n",
    "        \n",
    "        print(f'{id2label.get(int(subdir[-2:]),-1):>25} {len(files):>10}')\n",
    "        if len(files)>0:\n",
    "            class_counts_new[int(subdir[-2:])] = len(files)\n",
    "            total_num_of_images+=len(files)\n",
    "print(total_num_of_images)"
   ]
  },
  {
   "cell_type": "code",
   "execution_count": 6,
   "metadata": {},
   "outputs": [
    {
     "ename": "NameError",
     "evalue": "name 'id2label' is not defined",
     "output_type": "error",
     "traceback": [
      "\u001b[0;31m-----------------------------------------------------------------------\u001b[0m",
      "\u001b[0;31mNameError\u001b[0m                             Traceback (most recent call last)",
      "\u001b[0;32m<ipython-input-6-93e839b6d577>\u001b[0m in \u001b[0;36m<module>\u001b[0;34m\u001b[0m\n\u001b[1;32m      1\u001b[0m \u001b[0mh\u001b[0m \u001b[0;34m=\u001b[0m \u001b[0mopen\u001b[0m\u001b[0;34m(\u001b[0m\u001b[0;34m\"id_label_map.pkl\"\u001b[0m\u001b[0;34m,\u001b[0m\u001b[0;34m\"wb\"\u001b[0m\u001b[0;34m)\u001b[0m\u001b[0;34m\u001b[0m\u001b[0;34m\u001b[0m\u001b[0m\n\u001b[0;32m----> 2\u001b[0;31m \u001b[0mpickle\u001b[0m\u001b[0;34m.\u001b[0m\u001b[0mdump\u001b[0m\u001b[0;34m(\u001b[0m\u001b[0mid2label\u001b[0m\u001b[0;34m,\u001b[0m\u001b[0mh\u001b[0m\u001b[0;34m)\u001b[0m\u001b[0;34m\u001b[0m\u001b[0;34m\u001b[0m\u001b[0m\n\u001b[0m\u001b[1;32m      3\u001b[0m \u001b[0mh\u001b[0m\u001b[0;34m.\u001b[0m\u001b[0mclose\u001b[0m\u001b[0;34m(\u001b[0m\u001b[0;34m)\u001b[0m\u001b[0;34m\u001b[0m\u001b[0;34m\u001b[0m\u001b[0m\n\u001b[1;32m      4\u001b[0m \u001b[0mid2label\u001b[0m\u001b[0;34m\u001b[0m\u001b[0;34m\u001b[0m\u001b[0m\n",
      "\u001b[0;31mNameError\u001b[0m: name 'id2label' is not defined"
     ]
    }
   ],
   "source": [
    "id2label = {11: 'Fixed-wing Aircraft',\n",
    " 12: 'Small Aircraft',\n",
    " 13: 'Cargo Plane',\n",
    " 15: 'Helicopter',\n",
    " 17: 'Passenger Vehicle',\n",
    " 18: 'Small Car',\n",
    " 19: 'Bus',\n",
    " 20: 'Pickup Truck',\n",
    " 21: 'Utility Truck',\n",
    " 23: 'Truck',\n",
    " 24: 'Cargo Truck',\n",
    " 25: 'Truck w/Box',\n",
    " 26: 'Truck Tractor',\n",
    " 27: 'Trailer',\n",
    " 28: 'Truck w/Flatbed',\n",
    " 29: 'Truck w/Liquid',\n",
    " 32: 'Crane Truck',\n",
    " 33: 'Railway Vehicle',\n",
    " 34: 'Passenger Car',\n",
    " 35: 'Cargo Car',\n",
    " 36: 'Flat Car',\n",
    " 37: 'Tank car',\n",
    " 38: 'Locomotive',\n",
    " 40: 'Maritime Vessel',\n",
    " 41: 'Motorboat',\n",
    " 42: 'Sailboat',\n",
    " 44: 'Tugboat',\n",
    " 45: 'Barge',\n",
    " 47: 'Fishing Vessel',\n",
    " 49: 'Ferry',\n",
    " 50: 'Yacht',\n",
    " 51: 'Container Ship',\n",
    " 52: 'Oil Tanker',\n",
    " 53: 'Engineering Vehicle',\n",
    " 54: 'Tower crane',\n",
    " 55: 'Container Crane',\n",
    " 56: 'Reach Stacker',\n",
    " 57: 'Straddle Carrier',\n",
    " 59: 'Mobile Crane',\n",
    " 60: 'Dump Truck',\n",
    " 61: 'Haul Truck',\n",
    " 62: 'Scraper/Tractor',\n",
    " 63: 'Front loader/Bulldozer',\n",
    " 64: 'Excavator',\n",
    " 65: 'Cement Mixer',\n",
    " 66: 'Ground Grader',\n",
    " 71: 'Hut/Tent',\n",
    " 72: 'Shed',\n",
    " 73: 'Building',\n",
    " 74: 'Aircraft Hangar',\n",
    " 76: 'Damaged Building',\n",
    " 77: 'Facility',\n",
    " 79: 'Construction Site',\n",
    " 83: 'Vehicle Lot',\n",
    " 84: 'Helipad',\n",
    " 86: 'Storage Tank',\n",
    " 89: 'Shipping container lot',\n",
    " 91: 'Shipping Container',\n",
    " 93: 'Pylon',\n",
    " 94: 'Tower'}\n",
    "h = open(\"id_label_map.pkl\",\"wb\")\n",
    "pickle.dump(id2label,h)\n",
    "h.close()\n"
   ]
  },
  {
   "cell_type": "code",
   "execution_count": null,
   "metadata": {
    "id": "NlkuBRX2L8Dv"
   },
   "outputs": [],
   "source": [
    "!mkdir ../backup_new_train_images_2/"
   ]
  },
  {
   "cell_type": "code",
   "execution_count": null,
   "metadata": {
    "id": "W4MIF4q3MDK0"
   },
   "outputs": [],
   "source": [
    "!cp -r ../new_train_images_2/ ../backup_new_train_images_2/"
   ]
  },
  {
   "cell_type": "code",
   "execution_count": null,
   "metadata": {
    "colab": {
     "base_uri": "https://localhost:8080/"
    },
    "id": "5HYUbIKQR24z",
    "outputId": "f7453e00-3ff4-487d-c5a0-4d0f0facdee4"
   },
   "outputs": [],
   "source": [
    "!rm -r ../backup_new_train_images_2/"
   ]
  },
  {
   "cell_type": "code",
   "execution_count": null,
   "metadata": {
    "colab": {
     "base_uri": "https://localhost:8080/"
    },
    "id": "L578NP41NDSv",
    "outputId": "2b903862-c7b4-4ca2-cd0c-3e4dd806fc8a"
   },
   "outputs": [],
   "source": [
    "!mkdir ../new_train_images_2"
   ]
  },
  {
   "cell_type": "code",
   "execution_count": 14,
   "metadata": {
    "id": "T0jqvGjly4MM"
   },
   "outputs": [],
   "source": [
    "for i in list(unique.astype('int64')):\n",
    "  os.mkdir(data_dir+'new_train_images/'+str(i))"
   ]
  },
  {
   "cell_type": "code",
   "execution_count": 10,
   "metadata": {
    "id": "k4UEWj1-Bvat"
   },
   "outputs": [
    {
     "name": "stdout",
     "output_type": "stream",
     "text": [
      "/home/abhijit/nat/Object-Detection\r\n"
     ]
    }
   ],
   "source": [
    "!pwd"
   ]
  },
  {
   "cell_type": "code",
   "execution_count": null,
   "metadata": {
    "id": "ste3stp6S3WU"
   },
   "outputs": [],
   "source": [
    "!mkdir data/new_train_images"
   ]
  },
  {
   "cell_type": "code",
   "execution_count": 13,
   "metadata": {},
   "outputs": [
    {
     "name": "stdout",
     "output_type": "stream",
     "text": [
      "new_train_images      new_train_images_238  new_train_images_266\r\n",
      "new_train_images_211  new_train_images_240  new_train_images_271\r\n",
      "new_train_images_212  new_train_images_241  new_train_images_272\r\n",
      "new_train_images_213  new_train_images_242  new_train_images_273\r\n",
      "new_train_images_215  new_train_images_244  new_train_images_274\r\n",
      "new_train_images_217  new_train_images_245  new_train_images_275\r\n",
      "new_train_images_218  new_train_images_247  new_train_images_276\r\n",
      "new_train_images_219  new_train_images_249  new_train_images_277\r\n",
      "new_train_images_220  new_train_images_250  new_train_images_279\r\n",
      "new_train_images_221  new_train_images_251  new_train_images_282\r\n",
      "new_train_images_223  new_train_images_252  new_train_images_283\r\n",
      "new_train_images_224  new_train_images_253  new_train_images_284\r\n",
      "new_train_images_225  new_train_images_254  new_train_images_286\r\n",
      "new_train_images_226  new_train_images_255  new_train_images_289\r\n",
      "new_train_images_227  new_train_images_256  new_train_images_291\r\n",
      "new_train_images_228  new_train_images_257  new_train_images_293\r\n",
      "new_train_images_229  new_train_images_259  new_train_images_294\r\n",
      "new_train_images_232  new_train_images_260  train_images\r\n",
      "new_train_images_233  new_train_images_261  train_images.tgz\r\n",
      "new_train_images_234  new_train_images_262  train_labels.tgz\r\n",
      "new_train_images_235  new_train_images_263  xView_train.geojson\r\n",
      "new_train_images_236  new_train_images_264\r\n",
      "new_train_images_237  new_train_images_265\r\n"
     ]
    }
   ],
   "source": [
    "!ls $data_dir"
   ]
  },
  {
   "cell_type": "code",
   "execution_count": null,
   "metadata": {
    "id": "h35QU-I1LHpN"
   },
   "outputs": [],
   "source": [
    "for i in list(unique):\n",
    "  os.mkdir(data_dir+'new_train_images/'+str(int(i)))"
   ]
  }
 ],
 "metadata": {
  "colab": {
   "collapsed_sections": [],
   "name": "xView_Processing.ipynb",
   "provenance": []
  },
  "kernelspec": {
   "display_name": "Python 3",
   "language": "python",
   "name": "python3"
  },
  "language_info": {
   "codemirror_mode": {
    "name": "ipython",
    "version": 3
   },
   "file_extension": ".py",
   "mimetype": "text/x-python",
   "name": "python",
   "nbconvert_exporter": "python",
   "pygments_lexer": "ipython3",
   "version": "3.7.3"
  }
 },
 "nbformat": 4,
 "nbformat_minor": 1
}
